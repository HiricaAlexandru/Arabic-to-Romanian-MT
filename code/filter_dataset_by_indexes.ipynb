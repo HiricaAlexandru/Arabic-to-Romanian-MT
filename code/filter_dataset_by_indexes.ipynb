{
  "nbformat": 4,
  "nbformat_minor": 0,
  "metadata": {
    "colab": {
      "provenance": [],
      "machine_shape": "hm"
    },
    "kernelspec": {
      "name": "python3",
      "display_name": "Python 3"
    },
    "language_info": {
      "name": "python"
    }
  },
  "cells": [
    {
      "cell_type": "code",
      "execution_count": null,
      "metadata": {
        "colab": {
          "base_uri": "https://localhost:8080/"
        },
        "id": "ezEzBg0fij1u",
        "outputId": "091e750a-4f4a-4e55-b56d-e1c3ba3a736a"
      },
      "outputs": [
        {
          "output_type": "stream",
          "name": "stdout",
          "text": [
            "Drive already mounted at /content/drive; to attempt to forcibly remount, call drive.mount(\"/content/drive\", force_remount=True).\n"
          ]
        }
      ],
      "source": [
        "from google.colab import drive\n",
        "drive.mount('/content/drive')"
      ]
    },
    {
      "cell_type": "code",
      "source": [
        "import pandas as pd\n",
        "\n",
        "data = pd.read_csv(\"/content/drive/MyDrive/disertatie/FilteredDatasets/LEALLA+length+duplicates/opus_subtitles_LEALLA.csv\")"
      ],
      "metadata": {
        "id": "xsZTCiCNitlw"
      },
      "execution_count": null,
      "outputs": []
    },
    {
      "cell_type": "code",
      "source": [
        "\n",
        "all_files = \"/content/drive/MyDrive/disertatie/FilteredDatasets/LEALLA+length+duplicates/file_me\"\n",
        "\n",
        "indexes_from_files = []\n",
        "\n",
        "for i in range(1, 10):\n",
        "  name = all_files\n",
        "  name = name +\"_\"+ str(i) + \".txt\"\n",
        "\n",
        "  with open(name, 'r') as f:\n",
        "    for line in f.readlines():\n",
        "        indexes_from_files.append(int(line))"
      ],
      "metadata": {
        "id": "PpdBdMtsizx_"
      },
      "execution_count": null,
      "outputs": []
    },
    {
      "cell_type": "code",
      "source": [
        "len(indexes_from_files)"
      ],
      "metadata": {
        "colab": {
          "base_uri": "https://localhost:8080/"
        },
        "id": "QgYm2WS4lGNM",
        "outputId": "97f53787-75ea-42e5-9144-2c9ab257a1c0"
      },
      "execution_count": null,
      "outputs": [
        {
          "output_type": "execute_result",
          "data": {
            "text/plain": [
              "2744179"
            ]
          },
          "metadata": {},
          "execution_count": 4
        }
      ]
    },
    {
      "cell_type": "code",
      "source": [
        "with open(\"/content/drive/MyDrive/disertatie/FilteredDatasets/GEMINI_FILTERED/bad_formulation_opus_subtitles_LEALLA_INDEXES.txt\", 'w') as f:\n",
        "    for line in indexes_from_files:\n",
        "        f.write(f\"{line}\\n\")"
      ],
      "metadata": {
        "id": "h-PR-ZrjlM7E"
      },
      "execution_count": null,
      "outputs": []
    },
    {
      "cell_type": "code",
      "source": [
        "romanian_removed = data.drop(indexes_from_files, errors=\"ignore\")"
      ],
      "metadata": {
        "id": "n9NsFOCClpNA"
      },
      "execution_count": null,
      "outputs": []
    },
    {
      "cell_type": "code",
      "source": [
        "romanian_removed.to_csv(\"/content/drive/MyDrive/disertatie/FilteredDatasets/GEMINI_FILTERED/opus_subtitles_LEALLA_GEMINI_FILTERED.csv\", index=False)"
      ],
      "metadata": {
        "id": "WyunlAZ2mTeY"
      },
      "execution_count": null,
      "outputs": []
    },
    {
      "cell_type": "code",
      "source": [
        "romanian_removed.to_csv(\"romanian_removed.csv\", index=False)"
      ],
      "metadata": {
        "id": "MPfGpdKUmTz-"
      },
      "execution_count": null,
      "outputs": []
    },
    {
      "cell_type": "markdown",
      "source": [
        "# Dialects filtering"
      ],
      "metadata": {
        "id": "xCuxnU5dDY0Q"
      }
    },
    {
      "cell_type": "code",
      "source": [
        "from tqdm import tqdm\n",
        "import pandas as pd\n",
        "def read_and_keep_only_one_dialect(path_to_dialects, path_to_dataset, dialect_to_keep):\n",
        "    # Read the dialects file into a list\n",
        "    with open(path_to_dialects, 'r') as file:\n",
        "        results_dialect = [line.strip() for line in file]\n",
        "\n",
        "    # Read the dataset\n",
        "    df = pd.read_csv(path_to_dataset)\n",
        "\n",
        "    # Add the dialect column from results_dialect\n",
        "    df['dialect'] = results_dialect\n",
        "\n",
        "    # Filter rows where dialect matches dialect_to_keep\n",
        "    filtered_df = df[df['dialect'] == dialect_to_keep]\n",
        "\n",
        "    # Collect sentences for 'ro' and 'ar'\n",
        "    sentences = {\n",
        "        'ro': filtered_df['ro'].tolist(),\n",
        "        'ar': filtered_df['ar'].tolist()\n",
        "    }\n",
        "    return sentences\n"
      ],
      "metadata": {
        "id": "D6fllkOvELAP"
      },
      "execution_count": null,
      "outputs": []
    },
    {
      "cell_type": "code",
      "source": [
        "dataset_opus = read_and_keep_only_one_dialect(\"/content/drive/MyDrive/disertatie/FilteredDatasets/GEMINI_FILTERED/dialects/opus_subtitles_GEMINI_FILTERED_dialects.txt\", \"/content/drive/MyDrive/disertatie/FilteredDatasets/GEMINI_FILTERED/opus_subtitles_LEALLA_GEMINI_FILTERED.csv\", \"MSA\")\n",
        "dataset_NLLB = read_and_keep_only_one_dialect(\"/content/drive/MyDrive/disertatie/FilteredDatasets/GEMINI_FILTERED/dialects/nllb_GEMINI_FILTERED_dialects.txt\", \"/content/drive/MyDrive/disertatie/FilteredDatasets/GEMINI_FILTERED/nllb_LEALLA_GEMINI_FILTERED.csv\", \"MSA\")\n",
        "dataset_CC_MATRIX = read_and_keep_only_one_dialect(\"/content/drive/MyDrive/disertatie/FilteredDatasets/GEMINI_FILTERED/dialects/CC_MATRIX_GEMINI_FILTERED_dialects.txt\", \"/content/drive/MyDrive/disertatie/FilteredDatasets/GEMINI_FILTERED/CC_MATRIX_GEMINI_FILTERED.csv\", \"MSA\")"
      ],
      "metadata": {
        "id": "waLGn7KZEwt9"
      },
      "execution_count": null,
      "outputs": []
    },
    {
      "cell_type": "code",
      "source": [
        "print(len(dataset_opus) + len(dataset_NLLB) + len(dataset_CC_MATRIX))"
      ],
      "metadata": {
        "colab": {
          "base_uri": "https://localhost:8080/"
        },
        "id": "8oOmMsRKHFhs",
        "outputId": "23e074e5-da90-4b2b-bfec-267e7b4ced0c"
      },
      "execution_count": null,
      "outputs": [
        {
          "output_type": "stream",
          "name": "stdout",
          "text": [
            "6\n"
          ]
        }
      ]
    },
    {
      "cell_type": "code",
      "source": [
        "len(dataset_CC_MATRIX['ro'])"
      ],
      "metadata": {
        "colab": {
          "base_uri": "https://localhost:8080/"
        },
        "id": "9GWRXp_UHP2V",
        "outputId": "17d13ecb-9ad1-4dac-c076-1fb7d0d48890"
      },
      "execution_count": null,
      "outputs": [
        {
          "output_type": "execute_result",
          "data": {
            "text/plain": [
              "1478365"
            ]
          },
          "metadata": {},
          "execution_count": 21
        }
      ]
    },
    {
      "cell_type": "code",
      "source": [
        "df = pd.DataFrame(dataset_opus)\n",
        "# Save DataFrame to CSV\n",
        "df.to_csv('/content/drive/MyDrive/disertatie/FilteredDatasets/Eliminated_dialects/subtitles.csv', index=False)"
      ],
      "metadata": {
        "id": "JACjNuXmFrTO"
      },
      "execution_count": null,
      "outputs": []
    },
    {
      "cell_type": "code",
      "source": [
        "df = pd.DataFrame(dataset_NLLB)\n",
        "# Save DataFrame to CSV\n",
        "df.to_csv('/content/drive/MyDrive/disertatie/FilteredDatasets/Eliminated_dialects/nllb.csv', index=False)"
      ],
      "metadata": {
        "id": "cdclgneVGTU1"
      },
      "execution_count": null,
      "outputs": []
    },
    {
      "cell_type": "code",
      "source": [
        "df = pd.DataFrame(dataset_CC_MATRIX)\n",
        "# Save DataFrame to CSV\n",
        "df.to_csv('/content/drive/MyDrive/disertatie/FilteredDatasets/Eliminated_dialects/cc_MATRIX.csv', index=False)"
      ],
      "metadata": {
        "id": "Vi7TXkLfGTGE"
      },
      "execution_count": null,
      "outputs": []
    }
  ]
}