{
  "nbformat": 4,
  "nbformat_minor": 0,
  "metadata": {
    "colab": {
      "provenance": []
    },
    "kernelspec": {
      "name": "python3",
      "display_name": "Python 3"
    },
    "language_info": {
      "name": "python"
    }
  },
  "cells": [
    {
      "cell_type": "code",
      "execution_count": null,
      "metadata": {
        "colab": {
          "base_uri": "https://localhost:8080/"
        },
        "id": "LJd-IwK6OCYM",
        "outputId": "b22790aa-f525-41d3-f162-60d495774c94"
      },
      "outputs": [
        {
          "output_type": "stream",
          "name": "stdout",
          "text": [
            "Mounted at /content/drive\n"
          ]
        }
      ],
      "source": [
        "from google.colab import drive\n",
        "drive.mount('/content/drive')"
      ]
    },
    {
      "cell_type": "code",
      "source": [
        "INPUT_FOLDER = \"/content/drive/MyDrive/disertatie/translate/MISTRAL_TRAINED\"\n",
        "TEXT_FILE_NAME = \"raw.json\""
      ],
      "metadata": {
        "id": "z4oqJNVzOTZN"
      },
      "execution_count": null,
      "outputs": []
    },
    {
      "cell_type": "code",
      "source": [
        "import os\n",
        "\n",
        "def find_terminal_paths(input_folder):\n",
        "    terminal_paths = []\n",
        "    for root, dirs, files in os.walk(input_folder):\n",
        "        # If there are no subdirectories, it's a terminal path\n",
        "        if not dirs:\n",
        "            terminal_paths.append(root)\n",
        "    return terminal_paths\n",
        "\n",
        "terminal_paths = find_terminal_paths(INPUT_FOLDER)"
      ],
      "metadata": {
        "id": "YNBxt5B-OOF2"
      },
      "execution_count": null,
      "outputs": []
    },
    {
      "cell_type": "code",
      "source": [
        "import json\n",
        "import unicodedata\n",
        "\n",
        "# Function to load JSON data from a file\n",
        "def load_json(file_path):\n",
        "  parsed_data = []\n",
        "  with open(file_path, \"r\", encoding=\"utf-8\") as file:\n",
        "    for line in file:\n",
        "        try:\n",
        "            # Parse the JSON line\n",
        "            normalized_line = unicodedata.normalize(\"NFKC\", line.strip())\n",
        "            data = json.loads(normalized_line.strip())\n",
        "            if \"response\" in data:\n",
        "                data = bytes(data, \"utf-8\").decode(\"unicode_escape\")\n",
        "            parsed_data.append(data)\n",
        "        except json.JSONDecodeError as e:\n",
        "            print(f\"Error decoding JSON on line: {line.strip()}\\nError: {e}\")\n",
        "  return parsed_data\n",
        "\n",
        "def all_sentences_parse(all_sentences):\n",
        "  result_sentences = []\n",
        "\n",
        "  for i, sent in enumerate(all_sentences):\n",
        "    string_parsed = sent.split(\"Response:\")[1]\n",
        "    stripped_text = string_parsed.lstrip().strip(string.punctuation + \" \").split(\"\\n\")[0]\n",
        "    result_sentences.append(stripped_text)\n",
        "    #print(f\"{i+1}: {stripped_text}\")\n",
        "\n",
        "  return result_sentences\n",
        "\n",
        "def save_to_file(file_path, sentences):\n",
        "  with open(file_path, \"w\", encoding=\"utf-8\") as file:\n",
        "    for i, sent in enumerate(sentences):\n",
        "        # Check if the current sentence is not the last one\n",
        "        if i < len(sentences) - 1:\n",
        "            file.write(sent + \"\\n\")  # Add newline after every sentence except the last one\n",
        "        else:\n",
        "            file.write(sent)  # Write the last sentence without newline\n"
      ],
      "metadata": {
        "id": "oMq066ZsOPV1"
      },
      "execution_count": null,
      "outputs": []
    },
    {
      "cell_type": "code",
      "source": [
        "import string\n",
        "\n",
        "for path in terminal_paths:\n",
        "  data_json = load_json(os.path.join(path, TEXT_FILE_NAME))\n",
        "  result_sentences = all_sentences_parse(data_json)\n",
        "  print(path, len(result_sentences), len(data_json))\n",
        "\n",
        "  save_to_file(os.path.join(path, \"llm.txt\"), result_sentences)"
      ],
      "metadata": {
        "colab": {
          "base_uri": "https://localhost:8080/"
        },
        "id": "vm8OdYXGOqJZ",
        "outputId": "a3bed8dd-cb49-4107-cd8b-b3a1259a882b"
      },
      "execution_count": null,
      "outputs": [
        {
          "output_type": "stream",
          "name": "stdout",
          "text": [
            "/content/drive/MyDrive/disertatie/translate/MISTRAL_TRAINED/drepturile_copilului 217 217\n",
            "/content/drive/MyDrive/disertatie/translate/MISTRAL_TRAINED/conventia_geneva 330 330\n",
            "/content/drive/MyDrive/disertatie/translate/MISTRAL_TRAINED/drepturile_omului 79 79\n",
            "/content/drive/MyDrive/disertatie/translate/MISTRAL_TRAINED/drepturile_economice_culturale 124 124\n",
            "/content/drive/MyDrive/disertatie/translate/MISTRAL_TRAINED/statutul_refugiatilor 177 177\n",
            "/content/drive/MyDrive/disertatie/translate/MISTRAL_TRAINED/arabia_saudita_guvern 189 189\n",
            "/content/drive/MyDrive/disertatie/translate/MISTRAL_TRAINED/twitter/ksaembassyrou 86 86\n",
            "/content/drive/MyDrive/disertatie/translate/MISTRAL_TRAINED/flores+ 997 997\n",
            "/content/drive/MyDrive/disertatie/translate/MISTRAL_TRAINED/from_training_dataset 2100 2100\n"
          ]
        }
      ]
    },
    {
      "cell_type": "code",
      "source": [],
      "metadata": {
        "id": "mBo66dIZO2z9"
      },
      "execution_count": null,
      "outputs": []
    }
  ]
}